{
  "nbformat": 4,
  "nbformat_minor": 0,
  "metadata": {
    "colab": {
      "name": "Pechura02",
      "provenance": [],
      "collapsed_sections": [],
      "toc_visible": true
    },
    "kernelspec": {
      "name": "python3",
      "display_name": "Python 3"
    },
    "accelerator": "GPU"
  },
  "cells": [
    {
      "cell_type": "markdown",
      "metadata": {
        "id": "_sFbUtKAcG9W",
        "colab_type": "text"
      },
      "source": [
        "# Task info\n",
        "We have: Image of  traffic sign and label that identify.\n",
        "Task is:\n",
        "\n",
        "\n",
        "1.   model that achieves the best accuracy in recognition \n",
        "2.   and require the smallest amount of parameters\n",
        "3.  to consider is inference time (how much time does it take to can prediction result for one image for trained model)\n",
        "\n",
        "\n"
      ]
    },
    {
      "cell_type": "markdown",
      "metadata": {
        "id": "VvpWpnJUwOFx",
        "colab_type": "text"
      },
      "source": [
        "**Libraries**"
      ]
    },
    {
      "cell_type": "code",
      "metadata": {
        "id": "U4RFYnomVGzu",
        "colab_type": "code",
        "colab": {}
      },
      "source": [
        "%matplotlib inline\n",
        "\n",
        "import numpy as np\n",
        "import torch\n",
        "import torch.nn as nn\n",
        "import torch.nn.functional as F\n",
        "import torch.optim as optim\n",
        "import matplotlib.pyplot as plt\n",
        "from time import time\n",
        "from torchvision import datasets, transforms\n",
        "import pickle\n",
        "import pandas as pd\n",
        "import matplotlib.pyplot as plt\n",
        "from torch.utils.data import (DataLoader, Dataset)\n",
        "from collections import OrderedDict\n",
        "import cv2\n",
        "import os\n",
        "os.environ['CUDA_LAUNCH_BLOCKING'] = \"1\"\n",
        "from sklearn.preprocessing import StandardScaler\n",
        "from datetime import datetime"
      ],
      "execution_count": 0,
      "outputs": []
    },
    {
      "cell_type": "code",
      "metadata": {
        "id": "PD9foGa2VT_I",
        "colab_type": "code",
        "colab": {}
      },
      "source": [
        "batch_size = 64\n",
        "test_batch_size = 1\n",
        "epochs = 10\n",
        "learning_rate = 0.01\n",
        "momentum = 0.5\n",
        "random_seed = 42\n",
        "logging_interval = 100\n",
        "no_cuda = False\n",
        "use_cuda = not no_cuda and torch.cuda.is_available()\n",
        "\n",
        "# Layer details for the neural network\n",
        "input_size = 32*32\n",
        "hidden_sizes = [128, 64]\n",
        "output_size = 43\n",
        "\n",
        "\n",
        "torch.manual_seed(random_seed)\n",
        "device = torch.device(\"cuda\" if use_cuda else \"cpu\")"
      ],
      "execution_count": 0,
      "outputs": []
    },
    {
      "cell_type": "markdown",
      "metadata": {
        "id": "HJ_wmQOwwr3O",
        "colab_type": "text"
      },
      "source": [
        "**Function for loading data:**"
      ]
    },
    {
      "cell_type": "code",
      "metadata": {
        "id": "FfqLo-uXVram",
        "colab_type": "code",
        "colab": {}
      },
      "source": [
        "# Function for loading dataset from 'pickle' file\n",
        "def load_data(file):\n",
        "    # Open 'pickle' file\n",
        "    with open(file, 'rb') as f:\n",
        "        d = pickle.load(f, encoding='latin1')\n",
        "        \"\"\"\n",
        "        Data is a dictionary with four keys:\n",
        "            'features' - is a 4D array with raw pixel data of the traffic sign images,\n",
        "                         (number of examples, width, height, channels).\n",
        "            'labels'   - is a 1D array containing the label id of the traffic sign image,\n",
        "                         file label_names.csv contains id -> name mappings.\n",
        "            'sizes'    - is a 2D array containing arrays (width, height),\n",
        "                         representing the original width and height of the image.\n",
        "            'coords'   - is a 2D array containing arrays (x1, y1, x2, y2),\n",
        "                         representing coordinates of a bounding frame around the image.\n",
        "        \"\"\"\n",
        "        # 4D numpy.ndarray type, for train = (34799, 32, 32, 3)\n",
        "        input_data = d['features'].astype(np.float32)\n",
        "        # 1D numpy.ndarray type, for train = (34799,)   \n",
        "        target = d['labels'].astype(np.long)                       \n",
        "        # 2D numpy.ndarray type, for train = (34799, 2) \n",
        "        sizes = d['sizes']                         \n",
        "        # 2D numpy.ndarray type, for train = (34799, 4)\n",
        "        coords = d['coords']                        \n",
        "       \n",
        "    return input_data, target, sizes, coords"
      ],
      "execution_count": 0,
      "outputs": []
    },
    {
      "cell_type": "markdown",
      "metadata": {
        "id": "hmgYxEVPw1OZ",
        "colab_type": "text"
      },
      "source": [
        "**Mounting drive**"
      ]
    },
    {
      "cell_type": "code",
      "metadata": {
        "id": "3lu1_M1Bfk8L",
        "colab_type": "code",
        "outputId": "7a77bf78-6e6e-4e5e-cab2-bbadb6c08479",
        "colab": {
          "base_uri": "https://localhost:8080/",
          "height": 124
        }
      },
      "source": [
        "from google.colab import drive\n",
        "drive.mount('/content/drive')"
      ],
      "execution_count": 0,
      "outputs": [
        {
          "output_type": "stream",
          "text": [
            "Go to this URL in a browser: https://accounts.google.com/o/oauth2/auth?client_id=947318989803-6bn6qk8qdgf4n4g3pfee6491hc0brc4i.apps.googleusercontent.com&redirect_uri=urn%3aietf%3awg%3aoauth%3a2.0%3aoob&response_type=code&scope=email%20https%3a%2f%2fwww.googleapis.com%2fauth%2fdocs.test%20https%3a%2f%2fwww.googleapis.com%2fauth%2fdrive%20https%3a%2f%2fwww.googleapis.com%2fauth%2fdrive.photos.readonly%20https%3a%2f%2fwww.googleapis.com%2fauth%2fpeopleapi.readonly\n",
            "\n",
            "Enter your authorization code:\n",
            "··········\n",
            "Mounted at /content/drive\n"
          ],
          "name": "stdout"
        }
      ]
    },
    {
      "cell_type": "code",
      "metadata": {
        "id": "4-1santQRo2w",
        "colab_type": "code",
        "outputId": "7147633c-999c-47d5-9d98-70409d5ebc27",
        "colab": {
          "base_uri": "https://localhost:8080/",
          "height": 543
        }
      },
      "source": [
        "class LeDataSet(Dataset):\n",
        "    def __init__(self, X, y, transforms=None):\n",
        "        self.X = X\n",
        "        self.y = y\n",
        "        self.transforms = transforms\n",
        "        \n",
        "    def __getitem__(self, index):\n",
        "        data = self.X[index]\n",
        "        label = self.y[index]\n",
        "        if self.transforms is not None:\n",
        "            data = self.transforms(data)\n",
        "        return (data.permute(1,2,0), label)\n",
        "\n",
        "    def __len__(self):\n",
        "        return len(self.X)\n",
        "\n",
        "label_names = pd.read_csv(\"/content/drive/My Drive/label_names.csv\")\n",
        "\n",
        "X_train, y_train, train_sizes, train_coords = load_data(\"/content/drive/My Drive/train.pickle\")\n",
        "X_test, y_test, test_sizes, test_coords = load_data(\"/content/drive/My Drive/valid.pickle\")\n",
        "\n",
        "# mean and std for normalizing\n",
        "mean = X_train.mean(axis=(0,1,2))/255\n",
        "std = X_train.std(axis=(0,1,2))/255\n",
        "print(\"mean: \", mean, \"\\nstd: \", std)\n",
        "\n",
        "transform = transforms.Compose([transforms.ToTensor()])\n",
        "\n",
        "trainset = LeDataSet(X_train, y_train, transforms=transform) \n",
        "testset = LeDataSet(X_test, y_test, transforms=transform)\n",
        "\n",
        "train_loader = DataLoader(trainset, batch_size=batch_size, shuffle=True)\n",
        "test_loader = DataLoader(testset, batch_size=batch_size, shuffle=True)\n",
        "\n",
        "n_classes = np.unique(y_train).shape[0]\n",
        "\n",
        "print(\"Train \\n features sizes: \", X_train.shape, \"\\n target sizes:   \", y_train.shape)\n",
        "print(\"Test \\n features sizes: \", X_test.shape, \"\\n target sizes:   \", y_test.shape)\n",
        "print(\"\\nClasses: \", n_classes)\n",
        "\n",
        "dataiter = iter(train_loader)\n",
        "images, labels = dataiter.next()\n",
        "\n",
        "print(\"\\nBatch size: \", images.shape[0])\n",
        "print(\"Image size: \", images.shape[1:])\n",
        "\n",
        "print(\"\\nExample of img: image num 900\")\n",
        "plt.imshow(X_train[900].squeeze().astype('uint8'))\n",
        "print(\"label: \", label_names.SignName[y_train[900]])"
      ],
      "execution_count": 54,
      "outputs": [
        {
          "output_type": "stream",
          "text": [
            "mean:  [0.29701364 0.26967433 0.27603114] \n",
            "std:  [0.2569489  0.24415684 0.25072676]\n",
            "Train \n",
            " features sizes:  (34799, 32, 32, 3) \n",
            " target sizes:    (34799,)\n",
            "Test \n",
            " features sizes:  (4410, 32, 32, 3) \n",
            " target sizes:    (4410,)\n",
            "\n",
            "Classes:  43\n",
            "\n",
            "Batch size:  64\n",
            "Image size:  torch.Size([32, 32, 3])\n",
            "\n",
            "Example of img: image num 900\n",
            "label:  Go straight or right\n"
          ],
          "name": "stdout"
        },
        {
          "output_type": "display_data",
          "data": {
            "image/png": "[encoded data removed]",
            "text/plain": [
              "<Figure size 432x288 with 1 Axes>"
            ]
          },
          "metadata": {
            "tags": []
          }
        }
      ]
    },
    {
      "cell_type": "markdown",
      "metadata": {
        "id": "hzQvYoXOvUxZ",
        "colab_type": "text"
      },
      "source": [
        "To check how unbalanced our dataset is:"
      ]
    },
    {
      "cell_type": "code",
      "metadata": {
        "id": "QvRSlDOxuQ9p",
        "colab_type": "code",
        "outputId": "2ce4d683-78df-42cf-fef7-23fd4bbd1ffa",
        "colab": {
          "base_uri": "https://localhost:8080/",
          "height": 281
        }
      },
      "source": [
        "_ = plt.hist(y_train, bins='auto')\n",
        "plt.title(\"Labels histogram\")\n",
        "plt.show()"
      ],
      "execution_count": 0,
      "outputs": [
        {
          "output_type": "display_data",
          "data": {
            "image/png": "[encoded data removed]",
            "text/plain": [
              "<Figure size 432x288 with 1 Axes>"
            ]
          },
          "metadata": {
            "tags": []
          }
        }
      ]
    },
    {
      "cell_type": "code",
      "metadata": {
        "id": "td1RNdyZ0Bnk",
        "colab_type": "code",
        "outputId": "17a0d053-96ae-4b8c-a6db-0a3d0f8bc11e",
        "colab": {
          "base_uri": "https://localhost:8080/",
          "height": 281
        }
      },
      "source": [
        "_ = plt.hist(y_test, bins='auto')\n",
        "plt.title(\"Labels histogram\")\n",
        "plt.show()"
      ],
      "execution_count": 0,
      "outputs": [
        {
          "output_type": "display_data",
          "data": {
            "image/png": "[encoded data removed]",
            "text/plain": [
              "<Figure size 432x288 with 1 Axes>"
            ]
          },
          "metadata": {
            "tags": []
          }
        }
      ]
    },
    {
      "cell_type": "markdown",
      "metadata": {
        "id": "DY_uWXHb0S9E",
        "colab_type": "text"
      },
      "source": [
        "And we can see that some labels have very small amount of images."
      ]
    },
    {
      "cell_type": "markdown",
      "metadata": {
        "id": "f6apVd6dyb-e",
        "colab_type": "text"
      },
      "source": [
        "# Model:"
      ]
    },
    {
      "cell_type": "code",
      "metadata": {
        "id": "kJYTJ6qFitK6",
        "colab_type": "code",
        "colab": {}
      },
      "source": [
        "class LeNet5(nn.Module):\n",
        "    \"\"\"\n",
        "    Input - 1x32x32\n",
        "    C1 - 6@28x28 (5x5 kernel)\n",
        "    tanh\n",
        "    S2 - 6@14x14 (2x2 kernel, stride 2) Subsampling\n",
        "    C3 - 16@10x10 (5x5 kernel, complicated shit)\n",
        "    tanh\n",
        "    S4 - 16@5x5 (2x2 kernel, stride 2) Subsampling\n",
        "    C5 - 120@1x1 (5x5 kernel)\n",
        "    F6 - 84\n",
        "    tanh\n",
        "    F7 - 10 (Output)\n",
        "    \"\"\"\n",
        "    def __init__(self):\n",
        "        super(LeNet5, self).__init__()\n",
        "\n",
        "        self.convnet = nn.Sequential(OrderedDict([\n",
        "            ('c1', nn.Conv2d(3, 6, kernel_size=(5, 5))),\n",
        "            ('relu1', nn.ReLU()),\n",
        "            ('s2', nn.MaxPool2d(kernel_size=(2, 2), stride=2)),\n",
        "            ('c3', nn.Conv2d(6, 16, kernel_size=(5, 5))),\n",
        "            ('relu3', nn.ReLU()),\n",
        "            ('s4', nn.MaxPool2d(kernel_size=(2, 2), stride=2)),\n",
        "            ('c5', nn.Conv2d(16, 120, kernel_size=(5, 5))),\n",
        "            ('relu5', nn.ReLU())\n",
        "        ]))\n",
        "\n",
        "        self.fc = nn.Sequential(OrderedDict([\n",
        "            ('f6', nn.Linear(120, 84)),\n",
        "            ('relu6', nn.ReLU()),\n",
        "            ('f7', nn.Linear(84, 43)),\n",
        "            ('sig7', nn.LogSoftmax(dim=-1))\n",
        "        ]))\n",
        "\n",
        "    def forward(self, img):\n",
        "        output = self.convnet(img)\n",
        "        output = output.view(img.size(0), -1)\n",
        "        output = self.fc(output)\n",
        "        return output"
      ],
      "execution_count": 0,
      "outputs": []
    },
    {
      "cell_type": "code",
      "metadata": {
        "id": "xXGlELYnyxwl",
        "colab_type": "code",
        "colab": {}
      },
      "source": [
        "def train(model, train_loader, optimizer, epoch):\n",
        "    model.train()\n",
        "    for batch_idx, (data, target) in enumerate(train_loader):\n",
        "        # data, target = data.to(device), target.to(device)\n",
        "        data = data.permute(0,3,1,2)\n",
        "        # data = data.view(data.shape[0], -1)\n",
        "        optimizer.zero_grad()\n",
        "        # try:\n",
        "        output = model(data)\n",
        "        # except:\n",
        "        # print(data.shape)\n",
        "        loss = F.nll_loss(output, target)\n",
        "        loss.backward()\n",
        "        optimizer.step()\n",
        "        if batch_idx % logging_interval == 0:\n",
        "            print('Train Epoch: {} [{}/{} ({:.0f}%)]\\tLoss: {:.6f}'.format(\n",
        "                epoch, batch_idx * len(data), len(train_loader.dataset),\n",
        "                100. * batch_idx / len(train_loader), loss.item()))"
      ],
      "execution_count": 0,
      "outputs": []
    },
    {
      "cell_type": "code",
      "metadata": {
        "id": "9JfXEaBFy1Z2",
        "colab_type": "code",
        "colab": {}
      },
      "source": [
        "def test(model, test_loader):\n",
        "    model.eval()\n",
        "    test_loss = 0\n",
        "    correct = 0\n",
        "    with torch.no_grad():\n",
        "        for data, target in test_loader:\n",
        "            start = datetime.now()\n",
        "            # data, target = data.to(device), target.to(device)\n",
        "            # data = data.view(data.shape[0], -1)\n",
        "            data = data.permute(0,3,1,2)\n",
        "            output = model(data)\n",
        "            test_loss += F.nll_loss(output, target, reduction='sum').item() # sum up batch loss\n",
        "            pred = output.argmax(dim=1, keepdim=True) # get the index of the max log-probability\n",
        "            correct += pred.eq(target.view_as(pred)).sum().item()\n",
        "            end = datetime.now()\n",
        "\n",
        "    print('Time to predict 1 test img : ', (end - start).total_seconds())  \n",
        "    test_loss /= len(test_loader.dataset)\n",
        "\n",
        "    \n",
        "    print('\\nTest set: Average loss: {:.4f}, Accuracy: {}/{} ({:.0f}%)\\n'.format(\n",
        "        test_loss, correct, len(test_loader.dataset),\n",
        "        100. * correct / len(test_loader.dataset)))\n"
      ],
      "execution_count": 0,
      "outputs": []
    },
    {
      "cell_type": "code",
      "metadata": {
        "id": "bfoIg3VSy5bJ",
        "colab_type": "code",
        "outputId": "68b2d7e0-5b69-4f3c-ad5d-d65795aa838e",
        "colab": {
          "base_uri": "https://localhost:8080/",
          "height": 1000
        }
      },
      "source": [
        "def main():\n",
        "    model = LeNet5()\n",
        "    optimizer = optim.SGD(model.parameters(), lr=learning_rate, momentum=momentum)\n",
        "    \n",
        "    for epoch in range(1, epochs + 1):\n",
        "        train(model, train_loader, optimizer, epoch)\n",
        "        test(model, test_loader)\n",
        "    \n",
        "\n",
        "main()"
      ],
      "execution_count": 0,
      "outputs": [
        {
          "output_type": "stream",
          "text": [
            "Train Epoch: 1 [0/34799 (0%)]\tLoss: 6.765800\n",
            "Train Epoch: 1 [6400/34799 (18%)]\tLoss: 3.276906\n",
            "Train Epoch: 1 [12800/34799 (37%)]\tLoss: 1.257428\n",
            "Train Epoch: 1 [19200/34799 (55%)]\tLoss: 0.649879\n",
            "Train Epoch: 1 [25600/34799 (74%)]\tLoss: 0.815097\n",
            "Train Epoch: 1 [32000/34799 (92%)]\tLoss: 0.883020\n",
            "Time to predict 1 test img :  0.008273\n",
            "\n",
            "Test set: Average loss: 0.8957, Accuracy: 3513/4410 (80%)\n",
            "\n",
            "Train Epoch: 2 [0/34799 (0%)]\tLoss: 0.571242\n",
            "Train Epoch: 2 [6400/34799 (18%)]\tLoss: 0.485440\n",
            "Train Epoch: 2 [12800/34799 (37%)]\tLoss: 0.347321\n",
            "Train Epoch: 2 [19200/34799 (55%)]\tLoss: 0.389859\n",
            "Train Epoch: 2 [25600/34799 (74%)]\tLoss: 0.198307\n",
            "Train Epoch: 2 [32000/34799 (92%)]\tLoss: 0.236597\n",
            "Time to predict 1 test img :  0.007368\n",
            "\n",
            "Test set: Average loss: 0.8402, Accuracy: 3664/4410 (83%)\n",
            "\n",
            "Train Epoch: 3 [0/34799 (0%)]\tLoss: 0.184947\n",
            "Train Epoch: 3 [6400/34799 (18%)]\tLoss: 0.320385\n",
            "Train Epoch: 3 [12800/34799 (37%)]\tLoss: 0.268013\n",
            "Train Epoch: 3 [19200/34799 (55%)]\tLoss: 0.189136\n",
            "Train Epoch: 3 [25600/34799 (74%)]\tLoss: 0.324344\n",
            "Train Epoch: 3 [32000/34799 (92%)]\tLoss: 0.516132\n",
            "Time to predict 1 test img :  0.007259\n",
            "\n",
            "Test set: Average loss: 1.0706, Accuracy: 3651/4410 (83%)\n",
            "\n",
            "Train Epoch: 4 [0/34799 (0%)]\tLoss: 0.391843\n",
            "Train Epoch: 4 [6400/34799 (18%)]\tLoss: 0.222677\n",
            "Train Epoch: 4 [12800/34799 (37%)]\tLoss: 0.322022\n",
            "Train Epoch: 4 [19200/34799 (55%)]\tLoss: 0.351078\n",
            "Train Epoch: 4 [25600/34799 (74%)]\tLoss: 0.768001\n",
            "Train Epoch: 4 [32000/34799 (92%)]\tLoss: 0.223555\n",
            "Time to predict 1 test img :  0.007057\n",
            "\n",
            "Test set: Average loss: 1.1682, Accuracy: 3678/4410 (83%)\n",
            "\n",
            "Train Epoch: 5 [0/34799 (0%)]\tLoss: 0.151245\n",
            "Train Epoch: 5 [6400/34799 (18%)]\tLoss: 0.172182\n",
            "Train Epoch: 5 [12800/34799 (37%)]\tLoss: 0.397594\n",
            "Train Epoch: 5 [19200/34799 (55%)]\tLoss: 0.299883\n",
            "Train Epoch: 5 [25600/34799 (74%)]\tLoss: 0.183710\n",
            "Train Epoch: 5 [32000/34799 (92%)]\tLoss: 0.269988\n",
            "Time to predict 1 test img :  0.007336\n",
            "\n",
            "Test set: Average loss: 0.9428, Accuracy: 3807/4410 (86%)\n",
            "\n",
            "Train Epoch: 6 [0/34799 (0%)]\tLoss: 0.340223\n",
            "Train Epoch: 6 [6400/34799 (18%)]\tLoss: 0.097663\n",
            "Train Epoch: 6 [12800/34799 (37%)]\tLoss: 0.167658\n",
            "Train Epoch: 6 [19200/34799 (55%)]\tLoss: 0.254322\n",
            "Train Epoch: 6 [25600/34799 (74%)]\tLoss: 0.403052\n",
            "Train Epoch: 6 [32000/34799 (92%)]\tLoss: 0.035229\n",
            "Time to predict 1 test img :  0.006861\n",
            "\n",
            "Test set: Average loss: 1.1327, Accuracy: 3749/4410 (85%)\n",
            "\n",
            "Train Epoch: 7 [0/34799 (0%)]\tLoss: 0.188511\n",
            "Train Epoch: 7 [6400/34799 (18%)]\tLoss: 0.153444\n",
            "Train Epoch: 7 [12800/34799 (37%)]\tLoss: 0.250326\n",
            "Train Epoch: 7 [19200/34799 (55%)]\tLoss: 0.190217\n",
            "Train Epoch: 7 [25600/34799 (74%)]\tLoss: 0.112431\n",
            "Train Epoch: 7 [32000/34799 (92%)]\tLoss: 0.012909\n",
            "Time to predict 1 test img :  0.00715\n",
            "\n",
            "Test set: Average loss: 1.0451, Accuracy: 3849/4410 (87%)\n",
            "\n",
            "Train Epoch: 8 [0/34799 (0%)]\tLoss: 0.031228\n",
            "Train Epoch: 8 [6400/34799 (18%)]\tLoss: 0.090780\n",
            "Train Epoch: 8 [12800/34799 (37%)]\tLoss: 0.036210\n",
            "Train Epoch: 8 [19200/34799 (55%)]\tLoss: 0.369675\n",
            "Train Epoch: 8 [25600/34799 (74%)]\tLoss: 0.242953\n",
            "Train Epoch: 8 [32000/34799 (92%)]\tLoss: 0.465080\n",
            "Time to predict 1 test img :  0.007287\n",
            "\n",
            "Test set: Average loss: 0.8677, Accuracy: 3872/4410 (88%)\n",
            "\n",
            "Train Epoch: 9 [0/34799 (0%)]\tLoss: 0.060053\n",
            "Train Epoch: 9 [6400/34799 (18%)]\tLoss: 0.183532\n",
            "Train Epoch: 9 [12800/34799 (37%)]\tLoss: 0.026666\n",
            "Train Epoch: 9 [19200/34799 (55%)]\tLoss: 0.046421\n",
            "Train Epoch: 9 [25600/34799 (74%)]\tLoss: 0.192946\n",
            "Train Epoch: 9 [32000/34799 (92%)]\tLoss: 0.145783\n",
            "Time to predict 1 test img :  0.006857\n",
            "\n",
            "Test set: Average loss: 0.9787, Accuracy: 3904/4410 (89%)\n",
            "\n",
            "Train Epoch: 10 [0/34799 (0%)]\tLoss: 0.015046\n",
            "Train Epoch: 10 [6400/34799 (18%)]\tLoss: 0.035109\n",
            "Train Epoch: 10 [12800/34799 (37%)]\tLoss: 0.220412\n",
            "Train Epoch: 10 [19200/34799 (55%)]\tLoss: 0.043386\n",
            "Train Epoch: 10 [25600/34799 (74%)]\tLoss: 0.022685\n",
            "Train Epoch: 10 [32000/34799 (92%)]\tLoss: 0.048195\n",
            "Time to predict 1 test img :  0.007862\n",
            "\n",
            "Test set: Average loss: 0.8295, Accuracy: 3939/4410 (89%)\n",
            "\n"
          ],
          "name": "stdout"
        }
      ]
    },
    {
      "cell_type": "markdown",
      "metadata": {
        "id": "sV0DhkcsQYiJ",
        "colab_type": "text"
      },
      "source": [
        "Trying to improve my model:"
      ]
    },
    {
      "cell_type": "markdown",
      "metadata": {
        "id": "vtMcZbeEEpBO",
        "colab_type": "text"
      },
      "source": [
        "**Adding some img preprocessing from kaggle**"
      ]
    },
    {
      "cell_type": "code",
      "metadata": {
        "id": "oTr2CbqqB2ET",
        "colab_type": "code",
        "outputId": "1067ddd9-ca9d-4e33-a1ff-d829e1308b5e",
        "colab": {
          "base_uri": "https://localhost:8080/",
          "height": 35
        }
      },
      "source": [
        "!pip install tqdm\n",
        "import tensorflow as tf"
      ],
      "execution_count": 0,
      "outputs": [
        {
          "output_type": "stream",
          "text": [
            "Requirement already satisfied: tqdm in /usr/local/lib/python3.6/dist-packages (4.28.1)\n"
          ],
          "name": "stdout"
        }
      ]
    },
    {
      "cell_type": "code",
      "metadata": {
        "id": "85d2v6IRCM9d",
        "colab_type": "code",
        "colab": {}
      },
      "source": [
        "from tqdm import tqdm"
      ],
      "execution_count": 0,
      "outputs": []
    },
    {
      "cell_type": "code",
      "metadata": {
        "id": "6v9x9D27_6fg",
        "colab_type": "code",
        "colab": {}
      },
      "source": [
        "# Defining function for changing brightness\n",
        "def brightness_changing(image):\n",
        "    # Converting firstly image from RGB to HSV\n",
        "    image_hsv = cv2.cvtColor(image, cv2.COLOR_RGB2HSV)\n",
        "    # Defining random value for changing brightness\n",
        "    random_brightness = 0.25 + np.random.uniform()\n",
        "    # Implementing changing of Value channel of HSV image\n",
        "    image_hsv[:, :, 2] = image_hsv[:, :, 2] * random_brightness\n",
        "    # Converting HSV changed image to RGB\n",
        "    image_rgb = cv2.cvtColor(image_hsv, cv2.COLOR_HSV2RGB)\n",
        "    # Returning image with changed brightness\n",
        "    return image_rgb\n",
        "# Defining function for changing rotation of image\n",
        "def rotation_changing(image):\n",
        "    # Defining angle range\n",
        "    angle_range = 25\n",
        "    # Defining angle rotation\n",
        "    angle_rotation = np.random.uniform(angle_range) - angle_range / 2\n",
        "    # Getting shape of image\n",
        "    rows, columns, channels = image.shape\n",
        "    # Implementing rotation\n",
        "    # Calculating Affine Matrix\n",
        "    affine_matrix = cv2.getRotationMatrix2D((columns / 2, rows / 2), angle_rotation, 1)\n",
        "    # Warping original image with Affine Matrix\n",
        "    rotated_image = cv2.warpAffine(image, affine_matrix, (columns, rows))\n",
        "    # Returning rotated image\n",
        "    return rotated_image\n",
        "# Defining function for transformation: brightness + rotation\n",
        "\n",
        "def transformation_brightness_rotation(image):\n",
        "    return brightness_changing(rotation_changing(image))\n",
        "\n",
        "\n",
        "# Defining function for getting random image of one label\n",
        "def random_image(x_train, y_train, y_number):\n",
        "    # Getting indexes of needed 'y_number' from 'y_train'\n",
        "    # Defining True - False array\n",
        "    image_indexes = np.where(y_train == y_number)\n",
        "    # Getting random index of needed label\n",
        "    # 'np.bincount(y_train)' - array with number of examples for every label\n",
        "    # 'np.bincount(y_train)[y_number] - 1' - number of examples for 'y_number' label\n",
        "    random_index = np.random.randint(0, np.bincount(y_train)[y_number] - 1)\n",
        "    # Returning random image from 'x_train'\n",
        "    # 'x_train[image_indexes]' - returns array with only 'y_number' label\n",
        "    # 'x_train[image_indexes][random_index]' - random image of needed label\n",
        "    return x_train[image_indexes][random_index]\n",
        "\n",
        "\n",
        "# Defining function for equalization training dataset\n",
        "def equalize_training_dataset(x_train, y_train):\n",
        "    # Getting number of examples for every label\n",
        "    number_of_examples_for_every_label = np.bincount(y_train)\n",
        "    # Calculating total amount of unique labels\n",
        "    number_of_labels = np.arange(len(number_of_examples_for_every_label))\n",
        "\n",
        "    # Iterating over all number of labels\n",
        "    # Showing progress ber with 'tqdm'\n",
        "    for i in tqdm(number_of_labels):\n",
        "        # Calculating how many examples is needed to add for current label\n",
        "        # 'np.mean(number_of_examples_for_every_label)' - average number over examples for every label\n",
        "        number_of_examples_to_add = int(np.mean(number_of_examples_for_every_label) * 2.5) - \\\n",
        "                                    number_of_examples_for_every_label[i]\n",
        "\n",
        "        # Defining temporary arrays for collecting new images\n",
        "        x_temp = []\n",
        "        y_temp = []\n",
        "\n",
        "        # Getting random image from current label\n",
        "        # Transforming it and adding to the temporary arrays\n",
        "      \n",
        "        for j in range(number_of_examples_to_add):\n",
        "            getting_random_image = random_image(x_train, y_train, i)\n",
        "            x_temp.append(transformation_brightness_rotation(getting_random_image))\n",
        "            y_temp.append(i)\n",
        "\n",
        "        x_train = np.append(x_train, np.array(x_temp), axis=0)\n",
        "        y_train = np.append(y_train, np.array(y_temp), axis=0)\n",
        "\n",
        "    return x_train, y_train"
      ],
      "execution_count": 0,
      "outputs": []
    },
    {
      "cell_type": "code",
      "metadata": {
        "id": "GfQ10-LFARm1",
        "colab_type": "code",
        "outputId": "327f570f-a452-4bfb-ce53-83b5521f5305",
        "colab": {
          "base_uri": "https://localhost:8080/",
          "height": 35
        }
      },
      "source": [
        "x_train_eq, y_train_eq = equalize_training_dataset(X_train, y_train)"
      ],
      "execution_count": 0,
      "outputs": [
        {
          "output_type": "stream",
          "text": [
            "100%|██████████| 43/43 [01:26<00:00,  1.90s/it]\n"
          ],
          "name": "stderr"
        }
      ]
    },
    {
      "cell_type": "code",
      "metadata": {
        "id": "NdFO_CJiDW9w",
        "colab_type": "code",
        "outputId": "eb08d826-a411-4a98-e5b9-c05c98888aac",
        "colab": {
          "base_uri": "https://localhost:8080/",
          "height": 281
        }
      },
      "source": [
        "_ = plt.hist(y_train_eq, bins='auto')\n",
        "plt.title(\"Labels histogram after equalize\")\n",
        "plt.show()"
      ],
      "execution_count": 0,
      "outputs": [
        {
          "output_type": "display_data",
          "data": {
            "image/png": "[encoded data removed]",
            "text/plain": [
              "<Figure size 432x288 with 1 Axes>"
            ]
          },
          "metadata": {
            "tags": []
          }
        }
      ]
    },
    {
      "cell_type": "code",
      "metadata": {
        "id": "GOETyYFPDpb0",
        "colab_type": "code",
        "colab": {}
      },
      "source": [
        "trainset = LeDataSet(x_train_eq, y_train_eq, transforms=transform) \n",
        "testset = LeDataSet(X_test, y_test, transforms=transform)\n",
        "\n",
        "train_loader = DataLoader(trainset, batch_size=batch_size, shuffle=True)\n",
        "test_loader = DataLoader(testset, batch_size=batch_size, shuffle=True)"
      ],
      "execution_count": 0,
      "outputs": []
    },
    {
      "cell_type": "code",
      "metadata": {
        "id": "QlIDA6gjD0fX",
        "colab_type": "code",
        "outputId": "da47aff3-43b7-4dc8-f259-a6a87673ca15",
        "colab": {
          "base_uri": "https://localhost:8080/",
          "height": 1000
        }
      },
      "source": [
        "def main2():\n",
        "    model = LeNet5()\n",
        "    optimizer = optim.SGD(model.parameters(), lr=learning_rate, momentum=momentum)\n",
        "\n",
        "    for epoch in range(1, epochs + 1):\n",
        "        train(model, train_loader, optimizer, epoch)\n",
        "        test(model, test_loader)\n",
        "\n",
        "main2()"
      ],
      "execution_count": 0,
      "outputs": [
        {
          "output_type": "stream",
          "text": [
            "Train Epoch: 1 [0/86989 (0%)]\tLoss: 4.187910\n",
            "Train Epoch: 1 [6400/86989 (7%)]\tLoss: 3.168797\n",
            "Train Epoch: 1 [12800/86989 (15%)]\tLoss: 2.033044\n",
            "Train Epoch: 1 [19200/86989 (22%)]\tLoss: 1.295110\n",
            "Train Epoch: 1 [25600/86989 (29%)]\tLoss: 0.809029\n",
            "Train Epoch: 1 [32000/86989 (37%)]\tLoss: 0.756384\n",
            "Train Epoch: 1 [38400/86989 (44%)]\tLoss: 0.396256\n",
            "Train Epoch: 1 [44800/86989 (51%)]\tLoss: 0.589873\n",
            "Train Epoch: 1 [51200/86989 (59%)]\tLoss: 0.693508\n",
            "Train Epoch: 1 [57600/86989 (66%)]\tLoss: 0.441648\n",
            "Train Epoch: 1 [64000/86989 (74%)]\tLoss: 0.610893\n",
            "Train Epoch: 1 [70400/86989 (81%)]\tLoss: 0.248779\n",
            "Train Epoch: 1 [76800/86989 (88%)]\tLoss: 0.485170\n",
            "Train Epoch: 1 [83200/86989 (96%)]\tLoss: 0.327564\n",
            "Time to predict 1 test img :  0.007791\n",
            "\n",
            "Test set: Average loss: 1.3876, Accuracy: 3508/4410 (80%)\n",
            "\n",
            "Train Epoch: 2 [0/86989 (0%)]\tLoss: 0.536606\n",
            "Train Epoch: 2 [6400/86989 (7%)]\tLoss: 0.453863\n",
            "Train Epoch: 2 [12800/86989 (15%)]\tLoss: 0.376939\n",
            "Train Epoch: 2 [19200/86989 (22%)]\tLoss: 0.259843\n",
            "Train Epoch: 2 [25600/86989 (29%)]\tLoss: 0.698719\n",
            "Train Epoch: 2 [32000/86989 (37%)]\tLoss: 0.509583\n",
            "Train Epoch: 2 [38400/86989 (44%)]\tLoss: 0.245557\n",
            "Train Epoch: 2 [44800/86989 (51%)]\tLoss: 0.135411\n",
            "Train Epoch: 2 [51200/86989 (59%)]\tLoss: 0.122675\n",
            "Train Epoch: 2 [57600/86989 (66%)]\tLoss: 0.474815\n",
            "Train Epoch: 2 [64000/86989 (74%)]\tLoss: 0.339803\n",
            "Train Epoch: 2 [70400/86989 (81%)]\tLoss: 0.498471\n",
            "Train Epoch: 2 [76800/86989 (88%)]\tLoss: 0.254982\n",
            "Train Epoch: 2 [83200/86989 (96%)]\tLoss: 0.247898\n",
            "Time to predict 1 test img :  0.007811\n",
            "\n",
            "Test set: Average loss: 0.9624, Accuracy: 3879/4410 (88%)\n",
            "\n",
            "Train Epoch: 3 [0/86989 (0%)]\tLoss: 0.159971\n",
            "Train Epoch: 3 [6400/86989 (7%)]\tLoss: 0.165423\n",
            "Train Epoch: 3 [12800/86989 (15%)]\tLoss: 0.083693\n",
            "Train Epoch: 3 [19200/86989 (22%)]\tLoss: 0.062156\n",
            "Train Epoch: 3 [25600/86989 (29%)]\tLoss: 0.358565\n",
            "Train Epoch: 3 [32000/86989 (37%)]\tLoss: 0.196978\n",
            "Train Epoch: 3 [38400/86989 (44%)]\tLoss: 0.506731\n",
            "Train Epoch: 3 [44800/86989 (51%)]\tLoss: 0.296695\n",
            "Train Epoch: 3 [51200/86989 (59%)]\tLoss: 0.421789\n",
            "Train Epoch: 3 [57600/86989 (66%)]\tLoss: 0.196893\n",
            "Train Epoch: 3 [64000/86989 (74%)]\tLoss: 0.168489\n",
            "Train Epoch: 3 [70400/86989 (81%)]\tLoss: 0.237053\n",
            "Train Epoch: 3 [76800/86989 (88%)]\tLoss: 0.029367\n",
            "Train Epoch: 3 [83200/86989 (96%)]\tLoss: 0.204786\n",
            "Time to predict 1 test img :  0.007338\n",
            "\n",
            "Test set: Average loss: 1.3085, Accuracy: 3533/4410 (80%)\n",
            "\n",
            "Train Epoch: 4 [0/86989 (0%)]\tLoss: 0.237782\n",
            "Train Epoch: 4 [6400/86989 (7%)]\tLoss: 0.154643\n",
            "Train Epoch: 4 [12800/86989 (15%)]\tLoss: 0.231932\n",
            "Train Epoch: 4 [19200/86989 (22%)]\tLoss: 0.025322\n",
            "Train Epoch: 4 [25600/86989 (29%)]\tLoss: 0.126154\n",
            "Train Epoch: 4 [32000/86989 (37%)]\tLoss: 0.219367\n",
            "Train Epoch: 4 [38400/86989 (44%)]\tLoss: 1.218117\n",
            "Train Epoch: 4 [44800/86989 (51%)]\tLoss: 0.086255\n",
            "Train Epoch: 4 [51200/86989 (59%)]\tLoss: 0.300431\n",
            "Train Epoch: 4 [57600/86989 (66%)]\tLoss: 0.767227\n",
            "Train Epoch: 4 [64000/86989 (74%)]\tLoss: 0.510831\n",
            "Train Epoch: 4 [70400/86989 (81%)]\tLoss: 0.048029\n",
            "Train Epoch: 4 [76800/86989 (88%)]\tLoss: 0.242543\n",
            "Train Epoch: 4 [83200/86989 (96%)]\tLoss: 0.702516\n",
            "Time to predict 1 test img :  0.007392\n",
            "\n",
            "Test set: Average loss: 0.9032, Accuracy: 3943/4410 (89%)\n",
            "\n",
            "Train Epoch: 5 [0/86989 (0%)]\tLoss: 0.160416\n",
            "Train Epoch: 5 [6400/86989 (7%)]\tLoss: 0.207265\n",
            "Train Epoch: 5 [12800/86989 (15%)]\tLoss: 0.538244\n",
            "Train Epoch: 5 [19200/86989 (22%)]\tLoss: 0.172618\n",
            "Train Epoch: 5 [25600/86989 (29%)]\tLoss: 0.155780\n",
            "Train Epoch: 5 [32000/86989 (37%)]\tLoss: 0.182506\n",
            "Train Epoch: 5 [38400/86989 (44%)]\tLoss: 0.116757\n",
            "Train Epoch: 5 [44800/86989 (51%)]\tLoss: 0.220883\n",
            "Train Epoch: 5 [51200/86989 (59%)]\tLoss: 0.371107\n",
            "Train Epoch: 5 [57600/86989 (66%)]\tLoss: 0.163935\n",
            "Train Epoch: 5 [64000/86989 (74%)]\tLoss: 0.692798\n",
            "Train Epoch: 5 [70400/86989 (81%)]\tLoss: 0.116206\n",
            "Train Epoch: 5 [76800/86989 (88%)]\tLoss: 0.060881\n",
            "Train Epoch: 5 [83200/86989 (96%)]\tLoss: 0.063500\n",
            "Time to predict 1 test img :  0.007568\n",
            "\n",
            "Test set: Average loss: 1.3316, Accuracy: 3710/4410 (84%)\n",
            "\n",
            "Train Epoch: 6 [0/86989 (0%)]\tLoss: 0.061310\n",
            "Train Epoch: 6 [6400/86989 (7%)]\tLoss: 0.496675\n",
            "Train Epoch: 6 [12800/86989 (15%)]\tLoss: 0.388494\n",
            "Train Epoch: 6 [19200/86989 (22%)]\tLoss: 0.187970\n",
            "Train Epoch: 6 [25600/86989 (29%)]\tLoss: 0.055249\n",
            "Train Epoch: 6 [32000/86989 (37%)]\tLoss: 0.099340\n",
            "Train Epoch: 6 [38400/86989 (44%)]\tLoss: 0.039078\n",
            "Train Epoch: 6 [44800/86989 (51%)]\tLoss: 0.479474\n",
            "Train Epoch: 6 [51200/86989 (59%)]\tLoss: 0.051352\n",
            "Train Epoch: 6 [57600/86989 (66%)]\tLoss: 0.320242\n",
            "Train Epoch: 6 [64000/86989 (74%)]\tLoss: 0.021282\n",
            "Train Epoch: 6 [70400/86989 (81%)]\tLoss: 0.123943\n",
            "Train Epoch: 6 [76800/86989 (88%)]\tLoss: 0.099239\n",
            "Train Epoch: 6 [83200/86989 (96%)]\tLoss: 0.154005\n",
            "Time to predict 1 test img :  0.007295\n",
            "\n",
            "Test set: Average loss: 1.6353, Accuracy: 3715/4410 (84%)\n",
            "\n",
            "Train Epoch: 7 [0/86989 (0%)]\tLoss: 0.345888\n",
            "Train Epoch: 7 [6400/86989 (7%)]\tLoss: 0.150902\n",
            "Train Epoch: 7 [12800/86989 (15%)]\tLoss: 0.020667\n",
            "Train Epoch: 7 [19200/86989 (22%)]\tLoss: 0.232754\n",
            "Train Epoch: 7 [25600/86989 (29%)]\tLoss: 0.087956\n",
            "Train Epoch: 7 [32000/86989 (37%)]\tLoss: 0.444061\n",
            "Train Epoch: 7 [38400/86989 (44%)]\tLoss: 0.152993\n",
            "Train Epoch: 7 [44800/86989 (51%)]\tLoss: 0.393441\n",
            "Train Epoch: 7 [51200/86989 (59%)]\tLoss: 0.094208\n",
            "Train Epoch: 7 [57600/86989 (66%)]\tLoss: 0.190974\n",
            "Train Epoch: 7 [64000/86989 (74%)]\tLoss: 0.059624\n",
            "Train Epoch: 7 [70400/86989 (81%)]\tLoss: 0.034268\n",
            "Train Epoch: 7 [76800/86989 (88%)]\tLoss: 0.130121\n",
            "Train Epoch: 7 [83200/86989 (96%)]\tLoss: 0.057664\n",
            "Time to predict 1 test img :  0.007418\n",
            "\n",
            "Test set: Average loss: 1.3384, Accuracy: 3687/4410 (84%)\n",
            "\n",
            "Train Epoch: 8 [0/86989 (0%)]\tLoss: 0.384023\n",
            "Train Epoch: 8 [6400/86989 (7%)]\tLoss: 0.099960\n",
            "Train Epoch: 8 [12800/86989 (15%)]\tLoss: 0.114575\n",
            "Train Epoch: 8 [19200/86989 (22%)]\tLoss: 0.238683\n",
            "Train Epoch: 8 [25600/86989 (29%)]\tLoss: 0.197176\n",
            "Train Epoch: 8 [32000/86989 (37%)]\tLoss: 0.290571\n",
            "Train Epoch: 8 [38400/86989 (44%)]\tLoss: 0.055872\n",
            "Train Epoch: 8 [44800/86989 (51%)]\tLoss: 0.160340\n",
            "Train Epoch: 8 [51200/86989 (59%)]\tLoss: 0.153376\n",
            "Train Epoch: 8 [57600/86989 (66%)]\tLoss: 0.049602\n",
            "Train Epoch: 8 [64000/86989 (74%)]\tLoss: 0.269081\n",
            "Train Epoch: 8 [70400/86989 (81%)]\tLoss: 0.004943\n",
            "Train Epoch: 8 [76800/86989 (88%)]\tLoss: 0.258275\n",
            "Train Epoch: 8 [83200/86989 (96%)]\tLoss: 0.224000\n",
            "Time to predict 1 test img :  0.006987\n",
            "\n",
            "Test set: Average loss: 1.5758, Accuracy: 3993/4410 (91%)\n",
            "\n",
            "Train Epoch: 9 [0/86989 (0%)]\tLoss: 0.091285\n",
            "Train Epoch: 9 [6400/86989 (7%)]\tLoss: 0.193716\n",
            "Train Epoch: 9 [12800/86989 (15%)]\tLoss: 0.160079\n",
            "Train Epoch: 9 [19200/86989 (22%)]\tLoss: 0.048497\n",
            "Train Epoch: 9 [25600/86989 (29%)]\tLoss: 0.224042\n",
            "Train Epoch: 9 [32000/86989 (37%)]\tLoss: 0.067960\n",
            "Train Epoch: 9 [38400/86989 (44%)]\tLoss: 0.016262\n",
            "Train Epoch: 9 [44800/86989 (51%)]\tLoss: 0.169455\n",
            "Train Epoch: 9 [51200/86989 (59%)]\tLoss: 0.056227\n",
            "Train Epoch: 9 [57600/86989 (66%)]\tLoss: 0.367252\n",
            "Train Epoch: 9 [64000/86989 (74%)]\tLoss: 0.311894\n",
            "Train Epoch: 9 [70400/86989 (81%)]\tLoss: 0.654809\n",
            "Train Epoch: 9 [76800/86989 (88%)]\tLoss: 0.034140\n",
            "Train Epoch: 9 [83200/86989 (96%)]\tLoss: 0.291442\n",
            "Time to predict 1 test img :  0.007072\n",
            "\n",
            "Test set: Average loss: 1.9056, Accuracy: 3889/4410 (88%)\n",
            "\n",
            "Train Epoch: 10 [0/86989 (0%)]\tLoss: 0.107392\n",
            "Train Epoch: 10 [6400/86989 (7%)]\tLoss: 0.033565\n",
            "Train Epoch: 10 [12800/86989 (15%)]\tLoss: 0.011781\n",
            "Train Epoch: 10 [19200/86989 (22%)]\tLoss: 0.210716\n",
            "Train Epoch: 10 [25600/86989 (29%)]\tLoss: 0.061349\n",
            "Train Epoch: 10 [32000/86989 (37%)]\tLoss: 0.066268\n",
            "Train Epoch: 10 [38400/86989 (44%)]\tLoss: 0.201086\n",
            "Train Epoch: 10 [44800/86989 (51%)]\tLoss: 0.053392\n",
            "Train Epoch: 10 [51200/86989 (59%)]\tLoss: 0.008572\n",
            "Train Epoch: 10 [57600/86989 (66%)]\tLoss: 0.181949\n",
            "Train Epoch: 10 [64000/86989 (74%)]\tLoss: 0.031387\n",
            "Train Epoch: 10 [70400/86989 (81%)]\tLoss: 0.081112\n",
            "Train Epoch: 10 [76800/86989 (88%)]\tLoss: 0.202796\n",
            "Train Epoch: 10 [83200/86989 (96%)]\tLoss: 0.233188\n",
            "Time to predict 1 test img :  0.007424\n",
            "\n",
            "Test set: Average loss: 1.2160, Accuracy: 3950/4410 (90%)\n",
            "\n"
          ],
          "name": "stdout"
        }
      ]
    },
    {
      "cell_type": "markdown",
      "metadata": {
        "id": "qvDbjOAOFZXe",
        "colab_type": "text"
      },
      "source": [
        "We can see that accuracy becomes better, but just for a little: 1-2 %"
      ]
    },
    {
      "cell_type": "markdown",
      "metadata": {
        "id": "hrqF62ggUVqS",
        "colab_type": "text"
      },
      "source": [
        "**To sum up**, adding more data with kaggle functions gave us better accuracy, but with grayscale imgs and rotate it could become much more better."
      ]
    }
  ]
}