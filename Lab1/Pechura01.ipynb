{
  "nbformat": 4,
  "nbformat_minor": 0,
  "metadata": {
    "colab": {
      "name": "Pechura01.ipynb",
      "provenance": [],
      "collapsed_sections": []
    },
    "kernelspec": {
      "name": "python3",
      "display_name": "Python 3"
    }
  },
  "cells": [
    {
      "cell_type": "markdown",
      "metadata": {
        "id": "3OzFBdBWI6qo",
        "colab_type": "text"
      },
      "source": [
        "# Task info\n",
        "1. **Dataset preprocessing.** You should analyse all columns in dataset. Explain the reasoning why you modify/drop/skip any column.\n",
        "2. **Regression.** Train sklearn linear regression, try to find the best hyper parameters and get the best model. The target column is \"price\". \n",
        "Describe the model accuracy, performance, score, etc.\n",
        "3. **Classification.** Train sklearn logistic regression, try to find the best hyper parameters and will provide you the best model. The target column is \"premium\". "
      ]
    },
    {
      "cell_type": "code",
      "metadata": {
        "id": "sPHxvNSXQixa",
        "colab_type": "code",
        "colab": {}
      },
      "source": [
        "from os import cpu_count\n",
        "\n",
        "import pandas as pd\n",
        "import numpy as np\n",
        "from sklearn.preprocessing import StandardScaler, OneHotEncoder\n",
        "from sklearn.model_selection import (\n",
        "    StratifiedKFold, cross_val_score, GridSearchCV, train_test_split, KFold, cross_val_predict\n",
        ")\n",
        "\n",
        "# ML models\n",
        "from sklearn.linear_model import LogisticRegression, Ridge\n",
        "import pickle\n",
        "from sklearn.base import ClassifierMixin, BaseEstimator, RegressorMixin\n",
        "from sklearn.preprocessing import StandardScaler\n",
        "\n",
        "# metrics\n",
        "from sklearn.metrics import classification_report, f1_score\n",
        "\n",
        "# vizualizing\n",
        "import matplotlib.pyplot as plt\n",
        "%matplotlib inline \n",
        "import seaborn as sns\n",
        "import matplotlib.style as style\n",
        "\n",
        "# ignore warnings\n",
        "import warnings\n",
        "warnings.filterwarnings('ignore')\n",
        "\n",
        "random_state = 42\n",
        "n_jobs = max(cpu_count()-1, 1)"
      ],
      "execution_count": 0,
      "outputs": []
    },
    {
      "cell_type": "markdown",
      "metadata": {
        "id": "2BKBRIjqAM_7",
        "colab_type": "text"
      },
      "source": [
        " **Drop because of having no connection with target:**\n",
        "\n",
        "\n",
        "1.   *id* - does not have reasonable impact on model training result \n",
        "2.   *date* - does not have impact on target columns(price and premium)\n",
        "3. *lat and long* - because to make these params truly impact on target columns I should create a program that will define a district, for example, or param like \"close to metro\". But it's not a goal for this lab\n"
      ]
    },
    {
      "cell_type": "code",
      "metadata": {
        "id": "3x21yOumykpg",
        "colab_type": "code",
        "colab": {}
      },
      "source": [
        "house = pd.read_csv(\"house_prices_data.csv\")\n",
        "house = house.drop([\"id\", \"date\", \"lat\", \"long\"], axis=1)"
      ],
      "execution_count": 0,
      "outputs": []
    },
    {
      "cell_type": "code",
      "metadata": {
        "id": "qPh3_fajynd_",
        "colab_type": "code",
        "outputId": "079250a5-eee6-41ad-8d36-edb99bb9d4cc",
        "colab": {
          "base_uri": "https://localhost:8080/",
          "height": 314
        }
      },
      "source": [
        "house.describe()"
      ],
      "execution_count": 3,
      "outputs": [
        {
          "output_type": "execute_result",
          "data": {
            "text/html": [
              "<div>\n",
              "<style scoped>\n",
              "    .dataframe tbody tr th:only-of-type {\n",
              "        vertical-align: middle;\n",
              "    }\n",
              "\n",
              "    .dataframe tbody tr th {\n",
              "        vertical-align: top;\n",
              "    }\n",
              "\n",
              "    .dataframe thead th {\n",
              "        text-align: right;\n",
              "    }\n",
              "</style>\n",
              "<table border=\"1\" class=\"dataframe\">\n",
              "  <thead>\n",
              "    <tr style=\"text-align: right;\">\n",
              "      <th></th>\n",
              "      <th>price</th>\n",
              "      <th>bedrooms</th>\n",
              "      <th>bathrooms</th>\n",
              "      <th>sqft_living</th>\n",
              "      <th>sqft_lot</th>\n",
              "      <th>floors</th>\n",
              "      <th>waterfront</th>\n",
              "      <th>view</th>\n",
              "      <th>condition</th>\n",
              "      <th>premium</th>\n",
              "      <th>sqft_above</th>\n",
              "      <th>sqft_basement</th>\n",
              "      <th>yr_built</th>\n",
              "      <th>yr_renovated</th>\n",
              "      <th>zipcode</th>\n",
              "      <th>sqft_living15</th>\n",
              "      <th>sqft_lot15</th>\n",
              "    </tr>\n",
              "  </thead>\n",
              "  <tbody>\n",
              "    <tr>\n",
              "      <th>count</th>\n",
              "      <td>2.161300e+04</td>\n",
              "      <td>21613.000000</td>\n",
              "      <td>21613.000000</td>\n",
              "      <td>21613.000000</td>\n",
              "      <td>2.161300e+04</td>\n",
              "      <td>21613.000000</td>\n",
              "      <td>21613.000000</td>\n",
              "      <td>21613.000000</td>\n",
              "      <td>21613.000000</td>\n",
              "      <td>21613.000000</td>\n",
              "      <td>21613.000000</td>\n",
              "      <td>21613.000000</td>\n",
              "      <td>21613.000000</td>\n",
              "      <td>21613.000000</td>\n",
              "      <td>21613.000000</td>\n",
              "      <td>21613.000000</td>\n",
              "      <td>21613.000000</td>\n",
              "    </tr>\n",
              "    <tr>\n",
              "      <th>mean</th>\n",
              "      <td>5.400881e+05</td>\n",
              "      <td>3.370842</td>\n",
              "      <td>2.114757</td>\n",
              "      <td>2079.899736</td>\n",
              "      <td>1.510697e+04</td>\n",
              "      <td>1.494309</td>\n",
              "      <td>0.007542</td>\n",
              "      <td>0.234303</td>\n",
              "      <td>3.409430</td>\n",
              "      <td>0.075695</td>\n",
              "      <td>1788.390691</td>\n",
              "      <td>291.509045</td>\n",
              "      <td>1971.005136</td>\n",
              "      <td>84.402258</td>\n",
              "      <td>98077.939805</td>\n",
              "      <td>1986.552492</td>\n",
              "      <td>12768.455652</td>\n",
              "    </tr>\n",
              "    <tr>\n",
              "      <th>std</th>\n",
              "      <td>3.671272e+05</td>\n",
              "      <td>0.930062</td>\n",
              "      <td>0.770163</td>\n",
              "      <td>918.440897</td>\n",
              "      <td>4.142051e+04</td>\n",
              "      <td>0.539989</td>\n",
              "      <td>0.086517</td>\n",
              "      <td>0.766318</td>\n",
              "      <td>0.650743</td>\n",
              "      <td>0.264516</td>\n",
              "      <td>828.090978</td>\n",
              "      <td>442.575043</td>\n",
              "      <td>29.373411</td>\n",
              "      <td>401.679240</td>\n",
              "      <td>53.505026</td>\n",
              "      <td>685.391304</td>\n",
              "      <td>27304.179631</td>\n",
              "    </tr>\n",
              "    <tr>\n",
              "      <th>min</th>\n",
              "      <td>7.500000e+04</td>\n",
              "      <td>0.000000</td>\n",
              "      <td>0.000000</td>\n",
              "      <td>290.000000</td>\n",
              "      <td>5.200000e+02</td>\n",
              "      <td>1.000000</td>\n",
              "      <td>0.000000</td>\n",
              "      <td>0.000000</td>\n",
              "      <td>1.000000</td>\n",
              "      <td>0.000000</td>\n",
              "      <td>290.000000</td>\n",
              "      <td>0.000000</td>\n",
              "      <td>1900.000000</td>\n",
              "      <td>0.000000</td>\n",
              "      <td>98001.000000</td>\n",
              "      <td>399.000000</td>\n",
              "      <td>651.000000</td>\n",
              "    </tr>\n",
              "    <tr>\n",
              "      <th>25%</th>\n",
              "      <td>3.219500e+05</td>\n",
              "      <td>3.000000</td>\n",
              "      <td>1.750000</td>\n",
              "      <td>1427.000000</td>\n",
              "      <td>5.040000e+03</td>\n",
              "      <td>1.000000</td>\n",
              "      <td>0.000000</td>\n",
              "      <td>0.000000</td>\n",
              "      <td>3.000000</td>\n",
              "      <td>0.000000</td>\n",
              "      <td>1190.000000</td>\n",
              "      <td>0.000000</td>\n",
              "      <td>1951.000000</td>\n",
              "      <td>0.000000</td>\n",
              "      <td>98033.000000</td>\n",
              "      <td>1490.000000</td>\n",
              "      <td>5100.000000</td>\n",
              "    </tr>\n",
              "    <tr>\n",
              "      <th>50%</th>\n",
              "      <td>4.500000e+05</td>\n",
              "      <td>3.000000</td>\n",
              "      <td>2.250000</td>\n",
              "      <td>1910.000000</td>\n",
              "      <td>7.618000e+03</td>\n",
              "      <td>1.500000</td>\n",
              "      <td>0.000000</td>\n",
              "      <td>0.000000</td>\n",
              "      <td>3.000000</td>\n",
              "      <td>0.000000</td>\n",
              "      <td>1560.000000</td>\n",
              "      <td>0.000000</td>\n",
              "      <td>1975.000000</td>\n",
              "      <td>0.000000</td>\n",
              "      <td>98065.000000</td>\n",
              "      <td>1840.000000</td>\n",
              "      <td>7620.000000</td>\n",
              "    </tr>\n",
              "    <tr>\n",
              "      <th>75%</th>\n",
              "      <td>6.450000e+05</td>\n",
              "      <td>4.000000</td>\n",
              "      <td>2.500000</td>\n",
              "      <td>2550.000000</td>\n",
              "      <td>1.068800e+04</td>\n",
              "      <td>2.000000</td>\n",
              "      <td>0.000000</td>\n",
              "      <td>0.000000</td>\n",
              "      <td>4.000000</td>\n",
              "      <td>0.000000</td>\n",
              "      <td>2210.000000</td>\n",
              "      <td>560.000000</td>\n",
              "      <td>1997.000000</td>\n",
              "      <td>0.000000</td>\n",
              "      <td>98118.000000</td>\n",
              "      <td>2360.000000</td>\n",
              "      <td>10083.000000</td>\n",
              "    </tr>\n",
              "    <tr>\n",
              "      <th>max</th>\n",
              "      <td>7.700000e+06</td>\n",
              "      <td>33.000000</td>\n",
              "      <td>8.000000</td>\n",
              "      <td>13540.000000</td>\n",
              "      <td>1.651359e+06</td>\n",
              "      <td>3.500000</td>\n",
              "      <td>1.000000</td>\n",
              "      <td>4.000000</td>\n",
              "      <td>5.000000</td>\n",
              "      <td>1.000000</td>\n",
              "      <td>9410.000000</td>\n",
              "      <td>4820.000000</td>\n",
              "      <td>2015.000000</td>\n",
              "      <td>2015.000000</td>\n",
              "      <td>98199.000000</td>\n",
              "      <td>6210.000000</td>\n",
              "      <td>871200.000000</td>\n",
              "    </tr>\n",
              "  </tbody>\n",
              "</table>\n",
              "</div>"
            ],
            "text/plain": [
              "              price      bedrooms  ...  sqft_living15     sqft_lot15\n",
              "count  2.161300e+04  21613.000000  ...   21613.000000   21613.000000\n",
              "mean   5.400881e+05      3.370842  ...    1986.552492   12768.455652\n",
              "std    3.671272e+05      0.930062  ...     685.391304   27304.179631\n",
              "min    7.500000e+04      0.000000  ...     399.000000     651.000000\n",
              "25%    3.219500e+05      3.000000  ...    1490.000000    5100.000000\n",
              "50%    4.500000e+05      3.000000  ...    1840.000000    7620.000000\n",
              "75%    6.450000e+05      4.000000  ...    2360.000000   10083.000000\n",
              "max    7.700000e+06     33.000000  ...    6210.000000  871200.000000\n",
              "\n",
              "[8 rows x 17 columns]"
            ]
          },
          "metadata": {
            "tags": []
          },
          "execution_count": 3
        }
      ]
    },
    {
      "cell_type": "code",
      "metadata": {
        "id": "pj928NYUHzzT",
        "colab_type": "code",
        "colab": {}
      },
      "source": [
        "import pandas_profiling\n",
        "\n",
        "def get_profiling(df, output_name):\n",
        "    profile = pandas_profiling.ProfileReport(df=df)\n",
        "    profile.to_file(output_name)"
      ],
      "execution_count": 0,
      "outputs": []
    },
    {
      "cell_type": "code",
      "metadata": {
        "id": "xdHVbTh1H0uh",
        "colab_type": "code",
        "colab": {}
      },
      "source": [
        "get_profiling(house, \"house_prices_statistics.html\")"
      ],
      "execution_count": 0,
      "outputs": []
    },
    {
      "cell_type": "markdown",
      "metadata": {
        "colab_type": "text",
        "id": "1fzwB6t5MB3G"
      },
      "source": [
        "In **statistics html file** we could see that *view, sqft_basement* and *yr_renovated* are in warnings section because they have big percetage of zeros. But *sqft_basement* has only 60% of zeros, that is not too many. So I think we should not drop this one. Also param *waterfront* has 99.2% frequency of value 0, so it's not reasonable to use it.\n",
        "\n",
        "> **Drop because of zeros:**\n",
        "\n",
        "\n",
        "\n",
        "4.   *view*\n",
        "5.  *yr_renovated*\n",
        "6. *waterfront*\n",
        "\n",
        "\n",
        "\n",
        "\n"
      ]
    },
    {
      "cell_type": "markdown",
      "metadata": {
        "id": "Io45yPg06IpJ",
        "colab_type": "text"
      },
      "source": [
        "And *zipcode* because of small correlation with target features."
      ]
    },
    {
      "cell_type": "code",
      "metadata": {
        "id": "4zku_2ggN9IV",
        "colab_type": "code",
        "outputId": "c2070adf-5da5-4d67-9fab-28fae5d019fe",
        "colab": {
          "base_uri": "https://localhost:8080/",
          "height": 314
        }
      },
      "source": [
        "house = house.drop([\"view\", \"yr_renovated\", \"waterfront\", \"zipcode\"], axis=1)\n",
        "house.describe()"
      ],
      "execution_count": 6,
      "outputs": [
        {
          "output_type": "execute_result",
          "data": {
            "text/html": [
              "<div>\n",
              "<style scoped>\n",
              "    .dataframe tbody tr th:only-of-type {\n",
              "        vertical-align: middle;\n",
              "    }\n",
              "\n",
              "    .dataframe tbody tr th {\n",
              "        vertical-align: top;\n",
              "    }\n",
              "\n",
              "    .dataframe thead th {\n",
              "        text-align: right;\n",
              "    }\n",
              "</style>\n",
              "<table border=\"1\" class=\"dataframe\">\n",
              "  <thead>\n",
              "    <tr style=\"text-align: right;\">\n",
              "      <th></th>\n",
              "      <th>price</th>\n",
              "      <th>bedrooms</th>\n",
              "      <th>bathrooms</th>\n",
              "      <th>sqft_living</th>\n",
              "      <th>sqft_lot</th>\n",
              "      <th>floors</th>\n",
              "      <th>condition</th>\n",
              "      <th>premium</th>\n",
              "      <th>sqft_above</th>\n",
              "      <th>sqft_basement</th>\n",
              "      <th>yr_built</th>\n",
              "      <th>sqft_living15</th>\n",
              "      <th>sqft_lot15</th>\n",
              "    </tr>\n",
              "  </thead>\n",
              "  <tbody>\n",
              "    <tr>\n",
              "      <th>count</th>\n",
              "      <td>2.161300e+04</td>\n",
              "      <td>21613.000000</td>\n",
              "      <td>21613.000000</td>\n",
              "      <td>21613.000000</td>\n",
              "      <td>2.161300e+04</td>\n",
              "      <td>21613.000000</td>\n",
              "      <td>21613.000000</td>\n",
              "      <td>21613.000000</td>\n",
              "      <td>21613.000000</td>\n",
              "      <td>21613.000000</td>\n",
              "      <td>21613.000000</td>\n",
              "      <td>21613.000000</td>\n",
              "      <td>21613.000000</td>\n",
              "    </tr>\n",
              "    <tr>\n",
              "      <th>mean</th>\n",
              "      <td>5.400881e+05</td>\n",
              "      <td>3.370842</td>\n",
              "      <td>2.114757</td>\n",
              "      <td>2079.899736</td>\n",
              "      <td>1.510697e+04</td>\n",
              "      <td>1.494309</td>\n",
              "      <td>3.409430</td>\n",
              "      <td>0.075695</td>\n",
              "      <td>1788.390691</td>\n",
              "      <td>291.509045</td>\n",
              "      <td>1971.005136</td>\n",
              "      <td>1986.552492</td>\n",
              "      <td>12768.455652</td>\n",
              "    </tr>\n",
              "    <tr>\n",
              "      <th>std</th>\n",
              "      <td>3.671272e+05</td>\n",
              "      <td>0.930062</td>\n",
              "      <td>0.770163</td>\n",
              "      <td>918.440897</td>\n",
              "      <td>4.142051e+04</td>\n",
              "      <td>0.539989</td>\n",
              "      <td>0.650743</td>\n",
              "      <td>0.264516</td>\n",
              "      <td>828.090978</td>\n",
              "      <td>442.575043</td>\n",
              "      <td>29.373411</td>\n",
              "      <td>685.391304</td>\n",
              "      <td>27304.179631</td>\n",
              "    </tr>\n",
              "    <tr>\n",
              "      <th>min</th>\n",
              "      <td>7.500000e+04</td>\n",
              "      <td>0.000000</td>\n",
              "      <td>0.000000</td>\n",
              "      <td>290.000000</td>\n",
              "      <td>5.200000e+02</td>\n",
              "      <td>1.000000</td>\n",
              "      <td>1.000000</td>\n",
              "      <td>0.000000</td>\n",
              "      <td>290.000000</td>\n",
              "      <td>0.000000</td>\n",
              "      <td>1900.000000</td>\n",
              "      <td>399.000000</td>\n",
              "      <td>651.000000</td>\n",
              "    </tr>\n",
              "    <tr>\n",
              "      <th>25%</th>\n",
              "      <td>3.219500e+05</td>\n",
              "      <td>3.000000</td>\n",
              "      <td>1.750000</td>\n",
              "      <td>1427.000000</td>\n",
              "      <td>5.040000e+03</td>\n",
              "      <td>1.000000</td>\n",
              "      <td>3.000000</td>\n",
              "      <td>0.000000</td>\n",
              "      <td>1190.000000</td>\n",
              "      <td>0.000000</td>\n",
              "      <td>1951.000000</td>\n",
              "      <td>1490.000000</td>\n",
              "      <td>5100.000000</td>\n",
              "    </tr>\n",
              "    <tr>\n",
              "      <th>50%</th>\n",
              "      <td>4.500000e+05</td>\n",
              "      <td>3.000000</td>\n",
              "      <td>2.250000</td>\n",
              "      <td>1910.000000</td>\n",
              "      <td>7.618000e+03</td>\n",
              "      <td>1.500000</td>\n",
              "      <td>3.000000</td>\n",
              "      <td>0.000000</td>\n",
              "      <td>1560.000000</td>\n",
              "      <td>0.000000</td>\n",
              "      <td>1975.000000</td>\n",
              "      <td>1840.000000</td>\n",
              "      <td>7620.000000</td>\n",
              "    </tr>\n",
              "    <tr>\n",
              "      <th>75%</th>\n",
              "      <td>6.450000e+05</td>\n",
              "      <td>4.000000</td>\n",
              "      <td>2.500000</td>\n",
              "      <td>2550.000000</td>\n",
              "      <td>1.068800e+04</td>\n",
              "      <td>2.000000</td>\n",
              "      <td>4.000000</td>\n",
              "      <td>0.000000</td>\n",
              "      <td>2210.000000</td>\n",
              "      <td>560.000000</td>\n",
              "      <td>1997.000000</td>\n",
              "      <td>2360.000000</td>\n",
              "      <td>10083.000000</td>\n",
              "    </tr>\n",
              "    <tr>\n",
              "      <th>max</th>\n",
              "      <td>7.700000e+06</td>\n",
              "      <td>33.000000</td>\n",
              "      <td>8.000000</td>\n",
              "      <td>13540.000000</td>\n",
              "      <td>1.651359e+06</td>\n",
              "      <td>3.500000</td>\n",
              "      <td>5.000000</td>\n",
              "      <td>1.000000</td>\n",
              "      <td>9410.000000</td>\n",
              "      <td>4820.000000</td>\n",
              "      <td>2015.000000</td>\n",
              "      <td>6210.000000</td>\n",
              "      <td>871200.000000</td>\n",
              "    </tr>\n",
              "  </tbody>\n",
              "</table>\n",
              "</div>"
            ],
            "text/plain": [
              "              price      bedrooms  ...  sqft_living15     sqft_lot15\n",
              "count  2.161300e+04  21613.000000  ...   21613.000000   21613.000000\n",
              "mean   5.400881e+05      3.370842  ...    1986.552492   12768.455652\n",
              "std    3.671272e+05      0.930062  ...     685.391304   27304.179631\n",
              "min    7.500000e+04      0.000000  ...     399.000000     651.000000\n",
              "25%    3.219500e+05      3.000000  ...    1490.000000    5100.000000\n",
              "50%    4.500000e+05      3.000000  ...    1840.000000    7620.000000\n",
              "75%    6.450000e+05      4.000000  ...    2360.000000   10083.000000\n",
              "max    7.700000e+06     33.000000  ...    6210.000000  871200.000000\n",
              "\n",
              "[8 rows x 13 columns]"
            ]
          },
          "metadata": {
            "tags": []
          },
          "execution_count": 6
        }
      ]
    },
    {
      "cell_type": "markdown",
      "metadata": {
        "id": "WymmVoYmo94j",
        "colab_type": "text"
      },
      "source": [
        "**Sklearn log regression:**"
      ]
    },
    {
      "cell_type": "code",
      "metadata": {
        "id": "3sra3t-q9FLj",
        "colab_type": "code",
        "colab": {}
      },
      "source": [
        "def train_log_regression(x, y,\n",
        "                         random_state,\n",
        "                         metric='accuracy',\n",
        "                         n_splits=5, \n",
        "                         ):\n",
        "\n",
        "    # provides train/test indices to split data in train/test sets.\n",
        "    kf = StratifiedKFold(n_splits=n_splits, random_state=random_state, shuffle=True)\n",
        "\n",
        "    # create Logistic Regression with default params and fix random_state\n",
        "    lr = LogisticRegression(random_state=random_state)\n",
        "\n",
        "    # estimate its accuracy with cross-validation\n",
        "    scores_lr = cross_val_score(\n",
        "                                estimator=lr,\n",
        "                                X=x, \n",
        "                                y=y, \n",
        "                                scoring=metric,\n",
        "                                cv=kf,\n",
        "                                n_jobs=n_jobs\n",
        "                            ).mean()\n",
        "    lr.fit(x,y)\n",
        "    return lr, scores_lr\n",
        "\n"
      ],
      "execution_count": 0,
      "outputs": []
    },
    {
      "cell_type": "markdown",
      "metadata": {
        "id": "2jhExCOqgqNC",
        "colab_type": "text"
      },
      "source": [
        "**To drop target: (get x y)**"
      ]
    },
    {
      "cell_type": "code",
      "metadata": {
        "id": "UebRcfQMe1SR",
        "colab_type": "code",
        "colab": {}
      },
      "source": [
        "def get_xy(df, target=\"target\"):\n",
        "    return df.drop(target, axis=1), df[[target]].values"
      ],
      "execution_count": 0,
      "outputs": []
    },
    {
      "cell_type": "code",
      "metadata": {
        "id": "_gbDnIDVDgrm",
        "colab_type": "code",
        "colab": {}
      },
      "source": [
        "X, y = get_xy(house, target=\"premium\")"
      ],
      "execution_count": 0,
      "outputs": []
    },
    {
      "cell_type": "code",
      "metadata": {
        "id": "4TYqckDUBrSI",
        "colab_type": "code",
        "colab": {}
      },
      "source": [
        "X_train, X_test, y_train, y_test = train_test_split( X, y ,\n",
        "                                                    test_size=0.2, \n",
        "                                                    random_state=random_state, \n",
        "                                                    stratify = y)"
      ],
      "execution_count": 0,
      "outputs": []
    },
    {
      "cell_type": "markdown",
      "metadata": {
        "id": "iU0iZjG3v4h7",
        "colab_type": "text"
      },
      "source": [
        "**Results of training sklearn model:**"
      ]
    },
    {
      "cell_type": "code",
      "metadata": {
        "id": "zWegiXB8v2A7",
        "colab_type": "code",
        "outputId": "12ca0fc6-2a00-49ba-c092-7bbe1a3903ed",
        "colab": {
          "base_uri": "https://localhost:8080/",
          "height": 52
        }
      },
      "source": [
        "base_lr, scores_baseline = train_log_regression(X_train, y_train, random_state=random_state)\n",
        "print(f\"Base logistic regression score on train: {scores_baseline}\")\n",
        "print(f\"Base logistic regression score on test: {base_lr.score(X_test, y_test)}\")"
      ],
      "execution_count": 12,
      "outputs": [
        {
          "output_type": "stream",
          "text": [
            "Base logistic regression score on train: 0.9542510121457489\n",
            "Base logistic regression score on test: 0.9516539440203562\n"
          ],
          "name": "stdout"
        }
      ]
    },
    {
      "cell_type": "code",
      "metadata": {
        "id": "XItYFcaiSlRr",
        "colab_type": "code",
        "colab": {}
      },
      "source": [
        "# from sklearn.model_selection import cross_val_score\n",
        "# from sklearn.metrics import recall_score\n",
        "# from sklearn.tree import DecisionTreeClassifier\n",
        "# clf = DecisionTreeClassifier(random_state=0)\n",
        "# cross_val_score(clf, X_train, y_train, cv=10)\n",
        "# # clf.predict(X_train)\n",
        "# clf.fit(X_train, y_train)\n",
        "# y_pred = clf.predict(X_train)\n",
        "# recall_score(y_test, y_train, average=\"binary\")"
      ],
      "execution_count": 0,
      "outputs": []
    },
    {
      "cell_type": "markdown",
      "metadata": {
        "id": "xH-X9mAToDQU",
        "colab_type": "text"
      },
      "source": [
        "**Normalize:**"
      ]
    },
    {
      "cell_type": "code",
      "metadata": {
        "id": "gmh-ToeEiotk",
        "colab_type": "code",
        "outputId": "203f3b40-3f35-48db-f19b-59b7455c1494",
        "colab": {
          "base_uri": "https://localhost:8080/",
          "height": 52
        }
      },
      "source": [
        "X,y= get_xy(house, target=\"premium\")\n",
        "scaler = StandardScaler()\n",
        "X = scaler.fit_transform(X)\n",
        "X_train, X_test, y_train, y_test = train_test_split( X, y ,\n",
        "                                                    test_size=0.2, \n",
        "                                                    random_state=random_state, \n",
        "                                                    stratify = y)\n",
        "log_reg, score = train_log_regression(X_train, y_train, random_state)\n",
        "\n",
        "print(f\"Train logistic regression score with standartization: {score}\")\n",
        "print(f\"Test logistic regression score with standartization: {log_reg.score(X_test, y_test)}\")"
      ],
      "execution_count": 16,
      "outputs": [
        {
          "output_type": "stream",
          "text": [
            "Train logistic regression score with standartization: 0.9556969346443032\n",
            "Test logistic regression score with standartization: 0.9530418690724034\n"
          ],
          "name": "stdout"
        }
      ]
    },
    {
      "cell_type": "markdown",
      "metadata": {
        "id": "ti7hTQJ6oHrF",
        "colab_type": "text"
      },
      "source": [
        "And we can see accuracy increase."
      ]
    },
    {
      "cell_type": "markdown",
      "metadata": {
        "id": "C3wlTeHsrTbN",
        "colab_type": "text"
      },
      "source": [
        "**Grid search: (what params are the best?)**"
      ]
    },
    {
      "cell_type": "code",
      "metadata": {
        "id": "j2NIq2eMrSLv",
        "colab_type": "code",
        "outputId": "b1d6b134-4b5d-4f36-d3a2-38a0858b4765",
        "colab": {
          "base_uri": "https://localhost:8080/",
          "height": 139
        }
      },
      "source": [
        "%%time\n",
        "\n",
        "params = {'C': [0.1, 0.001, 0.0001, 0.5, 0.9],\n",
        "          'penalty': ['none', 'l2'],\n",
        "          'class_weight': ['balanced', None]\n",
        "    \n",
        "}\n",
        "\n",
        "estimator = LogisticRegression(random_state=random_state)\n",
        "kf = StratifiedKFold(n_splits=5, random_state=random_state, shuffle=True)\n",
        "    \n",
        "gs = GridSearchCV(\n",
        "    estimator=estimator,  \n",
        "    param_grid=params,  \n",
        "    cv=kf,  \n",
        "    error_score=1,  # warnings only\n",
        "    scoring='accuracy',  \n",
        "    n_jobs=n_jobs,\n",
        "    verbose=1,  \n",
        ")\n",
        "\n",
        "gs.fit(\n",
        "    X=X_train,\n",
        "    y=y_train\n",
        ")\n",
        "\n",
        "best_params = gs.best_params_\n",
        "best_score = gs.best_score_\n",
        "best_lr = gs.best_estimator_\n",
        "\n",
        "print('accuracy best: {:.4f}, +{:.4f} better than baseline'.format(\n",
        "    best_score, (best_score - scores_baseline))\n",
        ")\n",
        "print(f'best params: {best_params}')"
      ],
      "execution_count": 22,
      "outputs": [
        {
          "output_type": "stream",
          "text": [
            "Fitting 5 folds for each of 20 candidates, totalling 100 fits\n"
          ],
          "name": "stdout"
        },
        {
          "output_type": "stream",
          "text": [
            "[Parallel(n_jobs=1)]: Using backend SequentialBackend with 1 concurrent workers.\n"
          ],
          "name": "stderr"
        },
        {
          "output_type": "stream",
          "text": [
            "accuracy best: 0.9558, +0.0015 better than baseline\n",
            "best params: {'C': 0.1, 'class_weight': None, 'penalty': 'l2'}\n",
            "CPU times: user 6.76 s, sys: 4.25 s, total: 11 s\n",
            "Wall time: 5.58 s\n"
          ],
          "name": "stdout"
        },
        {
          "output_type": "stream",
          "text": [
            "[Parallel(n_jobs=1)]: Done 100 out of 100 | elapsed:    5.5s finished\n"
          ],
          "name": "stderr"
        }
      ]
    },
    {
      "cell_type": "markdown",
      "metadata": {
        "id": "8xOTjIhVrwWo",
        "colab_type": "text"
      },
      "source": [
        "Reload dataset:"
      ]
    },
    {
      "cell_type": "code",
      "metadata": {
        "id": "qZRW8qV-rw-c",
        "colab_type": "code",
        "colab": {}
      },
      "source": [
        "house = pd.read_csv(\"house_prices_data.csv\")\n",
        "\n",
        "house = house.drop([\"id\", \"date\", \"lat\", \"long\", \"yr_renovated\", \"waterfront\", \"view\", \"sqft_above\", \"sqft_basement\", \"zipcode\"], axis=1)"
      ],
      "execution_count": 0,
      "outputs": []
    },
    {
      "cell_type": "markdown",
      "metadata": {
        "id": "2C0ShiSwpKXB",
        "colab_type": "text"
      },
      "source": [
        "**Sklearn linear model:**"
      ]
    },
    {
      "cell_type": "code",
      "metadata": {
        "id": "lPsNEzpMpPqV",
        "colab_type": "code",
        "colab": {}
      },
      "source": [
        "def train_lin_regression(x, y,\n",
        "                         random_state,\n",
        "                         metric='neg_mean_squared_error',\n",
        "                         n_splits=5, \n",
        "                         ):\n",
        "\n",
        "    # provides train/test indices to split data in train/test sets\n",
        "    kf = KFold(n_splits=n_splits, random_state=random_state, shuffle=True)\n",
        "    # linear least squares with l2 regularization\n",
        "    lr = Ridge(random_state=random_state)\n",
        "\n",
        "    # estimate mse-score\n",
        "    scores_lr = cross_val_score(\n",
        "                                estimator=lr,\n",
        "                                X=x, \n",
        "                                y=y, \n",
        "                                scoring=metric,\n",
        "                                cv=kf,\n",
        "                                n_jobs=n_jobs\n",
        "                            ).mean()\n",
        "    lr.fit(x,y)\n",
        "    predictions = cross_val_predict(lr, x, y, cv=kf)\n",
        "    plt.scatter(y, predictions)\n",
        "    return lr, scores_lr"
      ],
      "execution_count": 0,
      "outputs": []
    },
    {
      "cell_type": "code",
      "metadata": {
        "id": "Uk7l0vsWsJWD",
        "colab_type": "code",
        "outputId": "f033c4f9-f1e7-4745-c7e8-1201a7a3e5d8",
        "colab": {
          "base_uri": "https://localhost:8080/",
          "height": 52
        }
      },
      "source": [
        "X, y = get_xy(house, target=\"price\")\n",
        "X_train, X_test, y_train, y_test = train_test_split(X, y,\n",
        "                                                    test_size=0.2, \n",
        "                                                    random_state=random_state, \n",
        "                                                    )\n",
        "lr, score = train_lin_regression(X_train, y_train, random_state=random_state, metric='neg_mean_squared_error')\n",
        "print(f\"Linear regression MSE score on train: {score}\")\n",
        "print(f\"Linear regression R2 score on test: {lr.score(X_test, y_test)}\")"
      ],
      "execution_count": 25,
      "outputs": [
        {
          "output_type": "stream",
          "text": [
            "Linear regression MSE score on train: -52609749545.47893\n",
            "Linear regression R2 score on test: 0.5951105932627119\n"
          ],
          "name": "stdout"
        }
      ]
    },
    {
      "cell_type": "markdown",
      "metadata": {
        "id": "cOR_2P9lxa4s",
        "colab_type": "text"
      },
      "source": [
        "Trying to improve my model:"
      ]
    },
    {
      "cell_type": "markdown",
      "metadata": {
        "id": "sBR8B_cMxign",
        "colab_type": "text"
      },
      "source": [
        "**1. One hot encoding:**\n",
        "Param *condition* is categorical (has only 5 values)\n",
        "**2. Normalize**"
      ]
    },
    {
      "cell_type": "code",
      "metadata": {
        "id": "ZmF2oRIhxnRU",
        "colab_type": "code",
        "colab": {}
      },
      "source": [
        "categ_col = [\"condition\"]\n",
        "binary_col = [\"premium\"]\n",
        "target_col = [\"price\"]\n",
        "# to make 5 conditions:\n",
        "house = pd.get_dummies(house, columns=categ_col)\n",
        "# columns to normalize:\n",
        "numerical_cols = list(set(house.columns) - set(categ_col) - set(binary_col) - set(target_col))\n",
        "\n",
        "standard_scaler = StandardScaler()\n",
        "house[numerical_cols] = standard_scaler.fit_transform(house[numerical_cols])"
      ],
      "execution_count": 0,
      "outputs": []
    },
    {
      "cell_type": "code",
      "metadata": {
        "id": "MQ1N92YKx_As",
        "colab_type": "code",
        "outputId": "f81da636-2b56-4792-ad52-d4c27182f234",
        "colab": {
          "base_uri": "https://localhost:8080/",
          "height": 401
        }
      },
      "source": [
        "house.describe()"
      ],
      "execution_count": 27,
      "outputs": [
        {
          "output_type": "execute_result",
          "data": {
            "text/html": [
              "<div>\n",
              "<style scoped>\n",
              "    .dataframe tbody tr th:only-of-type {\n",
              "        vertical-align: middle;\n",
              "    }\n",
              "\n",
              "    .dataframe tbody tr th {\n",
              "        vertical-align: top;\n",
              "    }\n",
              "\n",
              "    .dataframe thead th {\n",
              "        text-align: right;\n",
              "    }\n",
              "</style>\n",
              "<table border=\"1\" class=\"dataframe\">\n",
              "  <thead>\n",
              "    <tr style=\"text-align: right;\">\n",
              "      <th></th>\n",
              "      <th>price</th>\n",
              "      <th>bedrooms</th>\n",
              "      <th>bathrooms</th>\n",
              "      <th>sqft_living</th>\n",
              "      <th>sqft_lot</th>\n",
              "      <th>floors</th>\n",
              "      <th>premium</th>\n",
              "      <th>yr_built</th>\n",
              "      <th>sqft_living15</th>\n",
              "      <th>sqft_lot15</th>\n",
              "      <th>condition_1</th>\n",
              "      <th>condition_2</th>\n",
              "      <th>condition_3</th>\n",
              "      <th>condition_4</th>\n",
              "      <th>condition_5</th>\n",
              "    </tr>\n",
              "  </thead>\n",
              "  <tbody>\n",
              "    <tr>\n",
              "      <th>count</th>\n",
              "      <td>2.161300e+04</td>\n",
              "      <td>2.161300e+04</td>\n",
              "      <td>2.161300e+04</td>\n",
              "      <td>2.161300e+04</td>\n",
              "      <td>2.161300e+04</td>\n",
              "      <td>2.161300e+04</td>\n",
              "      <td>21613.000000</td>\n",
              "      <td>2.161300e+04</td>\n",
              "      <td>2.161300e+04</td>\n",
              "      <td>2.161300e+04</td>\n",
              "      <td>2.161300e+04</td>\n",
              "      <td>2.161300e+04</td>\n",
              "      <td>2.161300e+04</td>\n",
              "      <td>2.161300e+04</td>\n",
              "      <td>2.161300e+04</td>\n",
              "    </tr>\n",
              "    <tr>\n",
              "      <th>mean</th>\n",
              "      <td>5.400881e+05</td>\n",
              "      <td>-1.254167e-15</td>\n",
              "      <td>-1.051951e-15</td>\n",
              "      <td>3.174253e-16</td>\n",
              "      <td>3.281921e-17</td>\n",
              "      <td>-1.753125e-14</td>\n",
              "      <td>0.075695</td>\n",
              "      <td>3.592925e-15</td>\n",
              "      <td>-1.506632e-16</td>\n",
              "      <td>1.235382e-16</td>\n",
              "      <td>-1.104958e-16</td>\n",
              "      <td>1.723629e-15</td>\n",
              "      <td>1.124148e-14</td>\n",
              "      <td>5.170733e-15</td>\n",
              "      <td>-3.325794e-15</td>\n",
              "    </tr>\n",
              "    <tr>\n",
              "      <th>std</th>\n",
              "      <td>3.671272e+05</td>\n",
              "      <td>1.000023e+00</td>\n",
              "      <td>1.000023e+00</td>\n",
              "      <td>1.000023e+00</td>\n",
              "      <td>1.000023e+00</td>\n",
              "      <td>1.000023e+00</td>\n",
              "      <td>0.264516</td>\n",
              "      <td>1.000023e+00</td>\n",
              "      <td>1.000023e+00</td>\n",
              "      <td>1.000023e+00</td>\n",
              "      <td>1.000023e+00</td>\n",
              "      <td>1.000023e+00</td>\n",
              "      <td>1.000023e+00</td>\n",
              "      <td>1.000023e+00</td>\n",
              "      <td>1.000023e+00</td>\n",
              "    </tr>\n",
              "    <tr>\n",
              "      <th>min</th>\n",
              "      <td>7.500000e+04</td>\n",
              "      <td>-3.624404e+00</td>\n",
              "      <td>-2.745920e+00</td>\n",
              "      <td>-1.948891e+00</td>\n",
              "      <td>-3.521759e-01</td>\n",
              "      <td>-9.154270e-01</td>\n",
              "      <td>0.000000</td>\n",
              "      <td>-2.417383e+00</td>\n",
              "      <td>-2.316325e+00</td>\n",
              "      <td>-4.438052e-01</td>\n",
              "      <td>-3.728247e-02</td>\n",
              "      <td>-8.956570e-02</td>\n",
              "      <td>-1.360356e+00</td>\n",
              "      <td>-5.969989e-01</td>\n",
              "      <td>-2.922770e-01</td>\n",
              "    </tr>\n",
              "    <tr>\n",
              "      <th>25%</th>\n",
              "      <td>3.219500e+05</td>\n",
              "      <td>-3.987371e-01</td>\n",
              "      <td>-4.736214e-01</td>\n",
              "      <td>-7.108948e-01</td>\n",
              "      <td>-2.430487e-01</td>\n",
              "      <td>-9.154270e-01</td>\n",
              "      <td>0.000000</td>\n",
              "      <td>-6.810785e-01</td>\n",
              "      <td>-7.244971e-01</td>\n",
              "      <td>-2.808593e-01</td>\n",
              "      <td>-3.728247e-02</td>\n",
              "      <td>-8.956570e-02</td>\n",
              "      <td>-1.360356e+00</td>\n",
              "      <td>-5.969989e-01</td>\n",
              "      <td>-2.922770e-01</td>\n",
              "    </tr>\n",
              "    <tr>\n",
              "      <th>50%</th>\n",
              "      <td>4.500000e+05</td>\n",
              "      <td>-3.987371e-01</td>\n",
              "      <td>1.756067e-01</td>\n",
              "      <td>-1.849914e-01</td>\n",
              "      <td>-1.808075e-01</td>\n",
              "      <td>1.053939e-02</td>\n",
              "      <td>0.000000</td>\n",
              "      <td>1.360059e-01</td>\n",
              "      <td>-2.138280e-01</td>\n",
              "      <td>-1.885636e-01</td>\n",
              "      <td>-3.728247e-02</td>\n",
              "      <td>-8.956570e-02</td>\n",
              "      <td>7.351020e-01</td>\n",
              "      <td>-5.969989e-01</td>\n",
              "      <td>-2.922770e-01</td>\n",
              "    </tr>\n",
              "    <tr>\n",
              "      <th>75%</th>\n",
              "      <td>6.450000e+05</td>\n",
              "      <td>6.764851e-01</td>\n",
              "      <td>5.002207e-01</td>\n",
              "      <td>5.118578e-01</td>\n",
              "      <td>-1.066880e-01</td>\n",
              "      <td>9.365058e-01</td>\n",
              "      <td>0.000000</td>\n",
              "      <td>8.849999e-01</td>\n",
              "      <td>5.448802e-01</td>\n",
              "      <td>-9.835556e-02</td>\n",
              "      <td>-3.728247e-02</td>\n",
              "      <td>-8.956570e-02</td>\n",
              "      <td>7.351020e-01</td>\n",
              "      <td>1.675045e+00</td>\n",
              "      <td>-2.922770e-01</td>\n",
              "    </tr>\n",
              "    <tr>\n",
              "      <th>max</th>\n",
              "      <td>7.700000e+06</td>\n",
              "      <td>3.185793e+01</td>\n",
              "      <td>7.641730e+00</td>\n",
              "      <td>1.247807e+01</td>\n",
              "      <td>3.950434e+01</td>\n",
              "      <td>3.714405e+00</td>\n",
              "      <td>1.000000</td>\n",
              "      <td>1.497813e+00</td>\n",
              "      <td>6.162239e+00</td>\n",
              "      <td>3.144029e+01</td>\n",
              "      <td>2.682225e+01</td>\n",
              "      <td>1.116499e+01</td>\n",
              "      <td>7.351020e-01</td>\n",
              "      <td>1.675045e+00</td>\n",
              "      <td>3.421411e+00</td>\n",
              "    </tr>\n",
              "  </tbody>\n",
              "</table>\n",
              "</div>"
            ],
            "text/plain": [
              "              price      bedrooms  ...   condition_4   condition_5\n",
              "count  2.161300e+04  2.161300e+04  ...  2.161300e+04  2.161300e+04\n",
              "mean   5.400881e+05 -1.254167e-15  ...  5.170733e-15 -3.325794e-15\n",
              "std    3.671272e+05  1.000023e+00  ...  1.000023e+00  1.000023e+00\n",
              "min    7.500000e+04 -3.624404e+00  ... -5.969989e-01 -2.922770e-01\n",
              "25%    3.219500e+05 -3.987371e-01  ... -5.969989e-01 -2.922770e-01\n",
              "50%    4.500000e+05 -3.987371e-01  ... -5.969989e-01 -2.922770e-01\n",
              "75%    6.450000e+05  6.764851e-01  ...  1.675045e+00 -2.922770e-01\n",
              "max    7.700000e+06  3.185793e+01  ...  1.675045e+00  3.421411e+00\n",
              "\n",
              "[8 rows x 15 columns]"
            ]
          },
          "metadata": {
            "tags": []
          },
          "execution_count": 27
        }
      ]
    },
    {
      "cell_type": "code",
      "metadata": {
        "id": "LRgkfb2_9qfx",
        "colab_type": "code",
        "outputId": "310ea26b-dde6-45c0-cdc8-fba9ab74dea0",
        "colab": {
          "base_uri": "https://localhost:8080/",
          "height": 52
        }
      },
      "source": [
        "X, y = get_xy(house, target=\"price\")\n",
        "\n",
        "X_train, X_test, y_train, y_test = train_test_split(X, y,\n",
        "                                                    test_size=0.2, \n",
        "                                                    random_state=random_state, \n",
        "                                                    )\n",
        "base_lr, scores_baseline = train_lin_regression(X_train, y_train, random_state=random_state, metric='neg_mean_squared_error')\n",
        "print(f\"Standartized and OHE linear regression MSE score on train: {scores_baseline}\")\n",
        "print(f\"Standartized and OHE linear regression R2 score on test: {base_lr.score(X_test, y_test)}\")"
      ],
      "execution_count": 28,
      "outputs": [
        {
          "output_type": "stream",
          "text": [
            "Standartized and OHE linear regression MSE score on train: -52620743032.23311\n",
            "Standartized and OHE linear regression R2 score on test: 0.595305063188655\n"
          ],
          "name": "stdout"
        }
      ]
    },
    {
      "cell_type": "markdown",
      "metadata": {
        "id": "HqTtS9Q9w8_9",
        "colab_type": "text"
      },
      "source": [
        "No changes."
      ]
    },
    {
      "cell_type": "markdown",
      "metadata": {
        "id": "iDzLU0hilGrM",
        "colab_type": "text"
      },
      "source": [
        "In statistics html file we can see that *zipcode* is not correlate with target - price, but maybe after OHE we will see the progress. Because *zipcode* is categorical."
      ]
    },
    {
      "cell_type": "code",
      "metadata": {
        "id": "A1zuN4MWlxFY",
        "colab_type": "code",
        "colab": {}
      },
      "source": [
        "house = pd.read_csv(\"house_prices_data.csv\")\n",
        "\n",
        "house = house.drop([\"id\", \"date\", \"lat\", \"long\", \"yr_renovated\", \"waterfront\", \"view\", \"sqft_above\", \"sqft_basement\"], axis=1)"
      ],
      "execution_count": 0,
      "outputs": []
    },
    {
      "cell_type": "markdown",
      "metadata": {
        "id": "QwcHYoLml6Rp",
        "colab_type": "text"
      },
      "source": [
        "We should cast zipcode to an object to see true zipcodes: as we can see in statictics file."
      ]
    },
    {
      "cell_type": "code",
      "metadata": {
        "id": "wt7fUJ_Kmfkw",
        "colab_type": "code",
        "outputId": "84e5c6a3-ad6a-4555-c5b4-2d295e6b0952",
        "colab": {
          "base_uri": "https://localhost:8080/",
          "height": 104
        }
      },
      "source": [
        "house[\"zipcode\"] = house[\"zipcode\"].apply(lambda x: str(int(x))[:5]).astype('object')\n",
        "house[\"zipcode\"].describe()"
      ],
      "execution_count": 30,
      "outputs": [
        {
          "output_type": "execute_result",
          "data": {
            "text/plain": [
              "count     21613\n",
              "unique       70\n",
              "top       98103\n",
              "freq        602\n",
              "Name: zipcode, dtype: object"
            ]
          },
          "metadata": {
            "tags": []
          },
          "execution_count": 30
        }
      ]
    },
    {
      "cell_type": "code",
      "metadata": {
        "id": "PJMFkMPRnJw9",
        "colab_type": "code",
        "colab": {}
      },
      "source": [
        "categ_col = [\"condition\",\"zipcode\"]\n",
        "binary_col = [\"premium\"]\n",
        "target_col = [\"price\"]\n",
        "# to make categories:\n",
        "house = pd.get_dummies(house, columns=categ_col)\n",
        "# columns to normalize:\n",
        "numerical_cols = list(set(house.columns) - set(categ_col) - set(binary_col) - set(target_col))\n",
        "\n",
        "standard_scaler = StandardScaler()\n",
        "house[numerical_cols] = standard_scaler.fit_transform(house[numerical_cols])"
      ],
      "execution_count": 0,
      "outputs": []
    },
    {
      "cell_type": "code",
      "metadata": {
        "id": "6GCI3aGsno4E",
        "colab_type": "code",
        "outputId": "1542bd2c-e440-4032-bfae-531f22c0855c",
        "colab": {
          "base_uri": "https://localhost:8080/",
          "height": 52
        }
      },
      "source": [
        "X, y = get_xy(house, target=\"price\")\n",
        "\n",
        "X_train, X_test, y_train, y_test = train_test_split(X, y,\n",
        "                                                    test_size=0.2, \n",
        "                                                    random_state=random_state, \n",
        "                                                    )\n",
        "base_lr, scores_baseline = train_lin_regression(X_train, y_train, random_state=random_state, metric='neg_mean_squared_error')\n",
        "print(f\"Standartized and OHE linear regression MSE score on train: {scores_baseline}\")\n",
        "print(f\"Standartized and OHE linear regression R2 score on test: {base_lr.score(X_test, y_test)}\")"
      ],
      "execution_count": 32,
      "outputs": [
        {
          "output_type": "stream",
          "text": [
            "Standartized and OHE linear regression MSE score on train: -31128095412.885353\n",
            "Standartized and OHE linear regression R2 score on test: 0.7591921361119804\n"
          ],
          "name": "stdout"
        }
      ]
    },
    {
      "cell_type": "markdown",
      "metadata": {
        "id": "xnGQ2pFjo5u9",
        "colab_type": "text"
      },
      "source": [
        "We want to minimize the squared error. With *zipcode* it becomes smaller."
      ]
    }
  ]
}